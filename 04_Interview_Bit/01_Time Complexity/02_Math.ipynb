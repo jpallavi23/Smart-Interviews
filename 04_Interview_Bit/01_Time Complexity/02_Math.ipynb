{
 "metadata": {
  "language_info": {
   "codemirror_mode": {
    "name": "ipython",
    "version": 3
   },
   "file_extension": ".py",
   "mimetype": "text/x-python",
   "name": "python",
   "nbconvert_exporter": "python",
   "pygments_lexer": "ipython3",
   "version": 3
  },
  "orig_nbformat": 2
 },
 "nbformat": 4,
 "nbformat_minor": 2,
 "cells": [
  {
   "source": [
    "# WHILE_CMPL\n",
    "\n",
    "What is the time complexity of the following code :\n",
    "\n",
    "        int a = 0, i = N;\n",
    "        while (i > 0) {\n",
    "            a += i;\n",
    "            i /= 2;\n",
    "        }\n",
    "\n",
    "1) O(N)<br>\n",
    "2) O(Sqrt(N))<br>\n",
    "3) O(N / 2)<br>\n",
    "4) O(log N)<br>\n",
    "5) O(log(log N))<br>\n",
    "\n",
    "> ### Answer: 4"
   ],
   "cell_type": "markdown",
   "metadata": {}
  },
  {
   "source": [
    "# NESTED_CMPL3\n",
    "\n",
    "What is time complexity of following code :\n",
    "\n",
    "        int count = 0;\n",
    "        for (int i = N; i > 0; i /= 2) {\n",
    "            for (int j = 0; j < i; j++) {\n",
    "                count += 1;\n",
    "            }\n",
    "        }\n",
    "\n",
    "1) O(N \\* N)<br>\n",
    "2) O(N \\* log N)<br>\n",
    "3) O(N \\* log(log(N)))<br>\n",
    "4) O(N)<br>\n",
    "5) O(N \\* Sqrt(N))<br>\n",
    "\n",
    "> ### Answer: 4"
   ],
   "cell_type": "markdown",
   "metadata": {}
  },
  {
   "source": [
    "# LOOP_CMPL2\n",
    "\n",
    "What is the time complexity of the following code :\n",
    "\n",
    "    int i, j, k = 0;\n",
    "    for (i  = n/2; i <= n; i++) {\n",
    "        for (j = 2; j <= n; j = j * 2) {\n",
    "            k = k + n/2;\n",
    "        }\n",
    "    }\n",
    "\n",
    "1) Θ(n)<br>\n",
    "2) Θ(nLogn)<br>\n",
    "3) Θ(n^2)<br>\n",
    "4) Θ(n^2 / Logn)<br>\n",
    "5) Θ(n^2Logn)<br>\n",
    "\n",
    "> ### Answer: 2"
   ],
   "cell_type": "markdown",
   "metadata": {}
  }
 ]
}