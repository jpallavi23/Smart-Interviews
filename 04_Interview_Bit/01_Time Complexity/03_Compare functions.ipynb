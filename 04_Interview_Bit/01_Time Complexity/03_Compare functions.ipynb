{
 "metadata": {
  "language_info": {
   "codemirror_mode": {
    "name": "ipython",
    "version": 3
   },
   "file_extension": ".py",
   "mimetype": "text/x-python",
   "name": "python",
   "nbconvert_exporter": "python",
   "pygments_lexer": "ipython3",
   "version": "3.8.5-final"
  },
  "orig_nbformat": 2,
  "kernelspec": {
   "name": "Python 3.8.5 32-bit",
   "display_name": "Python 3.8.5 32-bit",
   "metadata": {
    "interpreter": {
     "hash": "14e1e05d9ca73625b9c11ae8901cf3cc730b7ae8da8e31f9ecfdbd9a23b9dff3"
    }
   }
  }
 },
 "nbformat": 4,
 "nbformat_minor": 2,
 "cells": [
  {
   "source": [
    "# CHOOSE1\n",
    "\n",
    "Which of the following is not bounded by O(n^2)?\n",
    "\n",
    "1) (15^10) \\* n + 12099<br>\n",
    "2) n^1.98<br>\n",
    "3) n^3 / (sqrt(n))<br>\n",
    "4) (2^20) \\* n<br>\n",
    "\n",
    "> ### Answer: 3"
   ],
   "cell_type": "markdown",
   "metadata": {}
  },
  {
   "source": [
    "# CHOOSE3\n",
    "\n",
    "In a competition, four different functions are observed. All the functions use a single for loop and within the for loop, same set of statements are executed.\n",
    "\n",
    "Consider the following for loops:\n",
    "\n",
    "  A) for(i = 0; i < n; i++)\n",
    " \n",
    "  B) for(i = 0; i < n; i += 2)\n",
    " \n",
    "  C) for(i = 1; i < n; i *= 2)\n",
    " \n",
    "  D) for(i = n; i > -1; i /= 2)\n",
    "\n",
    "If n is the size of input(positive), which function is the most efficient? In other words, which loop completes the fastest.\n",
    "\n",
    "1) A<br>\n",
    "2) B<br>\n",
    "3) C<br>\n",
    "4) D<br>\n",
    "\n",
    "> ### Answer: 3"
   ],
   "cell_type": "markdown",
   "metadata": {}
  },
  {
   "source": [
    "# CHOOSE2\n",
    "\n",
    "Which of the given options provides the increasing order of complexity of functions f1, f2, f3 and f4:\n",
    "\n",
    "f1(n) = 2^n\n",
    "\n",
    "f2(n) = n^(3/2)\n",
    "\n",
    "f3(n) = nLogn\n",
    "\n",
    "f4(n) = n^(Logn)\n",
    "\n",
    "1) f3, f2, f4, f1<br>\n",
    "2) f3, f2, f1, f4<br>\n",
    "3) f2, f3, f1, f4<br>\n",
    "4) f2, f3, f4, f1<br>\n",
    "\n",
    "> ### Answer: 1"
   ],
   "cell_type": "markdown",
   "metadata": {}
  }
 ]
}