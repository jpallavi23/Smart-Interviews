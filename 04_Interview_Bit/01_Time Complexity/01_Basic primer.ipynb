{
 "metadata": {
  "language_info": {
   "codemirror_mode": {
    "name": "ipython",
    "version": 3
   },
   "file_extension": ".py",
   "mimetype": "text/x-python",
   "name": "python",
   "nbconvert_exporter": "python",
   "pygments_lexer": "ipython3",
   "version": "3.8.5-final"
  },
  "orig_nbformat": 2,
  "kernelspec": {
   "name": "Python 3.8.5 32-bit",
   "display_name": "Python 3.8.5 32-bit",
   "metadata": {
    "interpreter": {
     "hash": "14e1e05d9ca73625b9c11ae8901cf3cc730b7ae8da8e31f9ecfdbd9a23b9dff3"
    }
   }
  }
 },
 "nbformat": 4,
 "nbformat_minor": 2,
 "cells": [
  {
   "source": [
    "# LOOP_CMPL\n",
    "\n",
    "What is the time, space complexity of following code :\n",
    "\n",
    "        int a = 0, b = 0;    \n",
    "        for (i = 0; i < N; i++) {\n",
    "            a = a + rand();  \n",
    "        }\n",
    "        for (j = 0; j < M; j++) {\n",
    "            b = b + rand();\n",
    "        }\n",
    "        \n",
    "Assume that rand() is O(1) time, O(1) space function.\n",
    "\n",
    "1) O(N \\* M) time, O(1) space<br>\n",
    "2) O(N + M) time, O(N + M) space<br>\n",
    "3) O(N + M) time, O(1) space<br>\n",
    "4) O(N \\* M) time, O(N + M) space<br>\n",
    "5) O(N \\* M) time, O(N \\* M) space<br>\n",
    "\n",
    "> ### Answer: 3"
   ],
   "cell_type": "markdown",
   "metadata": {}
  },
  {
   "source": [
    "# NESTED_CMPL\n",
    "\n",
    "What is the time, space complexity of following code :\n",
    "\n",
    "    int a = 0, b = 0;    \n",
    "    for (i = 0; i < N; i++) {\n",
    "        for (j = 0; j < N; j++) {\n",
    "            a = a + j;\n",
    "        }\n",
    "    }\n",
    "    for (k = 0; k < N; k++) {\n",
    "        b = b + k;\n",
    "    } \n",
    "\n",
    "1) O(N \\* N) time, O(1) space<br>\n",
    "2) O(N) time, O(N) space<br>\n",
    "3) O(N) time, O(N) space<br>\n",
    "4) O(N \\* N) time, O(N) space<br>\n",
    "5) O(N \\* N \\* N) time, O(1) space<br>\n",
    "\n",
    "> ### Answer: 1"
   ],
   "cell_type": "markdown",
   "metadata": {}
  },
  {
   "source": [
    "# NESTED_CMPL2\n",
    "\n",
    "What is the time complexity of the following code :\n",
    "\n",
    "    int a = 0;\n",
    "    for (i = 0; i < N; i++) {\n",
    "        for (j = N; j > i; j--) {\n",
    "            a = a + i + j;\n",
    "        }\n",
    "    }\n",
    "\n",
    "1) O(N)<br>\n",
    "2) O(N\\*log(N))<br>\n",
    "3) O(N \\* Sqrt(N))<br>\n",
    "4) O(N\\*N)<br>\n",
    "\n",
    "> ### Answer: 4"
   ],
   "cell_type": "markdown",
   "metadata": {}
  },
  {
   "source": [
    "# CHOOSE4\n",
    "\n",
    "What does it mean when we say that an algorithm X is asymptotically more efficient than Y?\n",
    "\n",
    "1) X will always be a better choice for all inputs<br>\n",
    "2) X will always be a better choice for large inputs<br>\n",
    "3) X will always be a better choice for small inputs<br>\n",
    "4) Y will always be a better choice for small inputs<br>\n",
    "\n",
    "> ### Answer: 2"
   ],
   "cell_type": "markdown",
   "metadata": {}
  }
 ]
}