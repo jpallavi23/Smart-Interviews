{
 "metadata": {
  "language_info": {
   "codemirror_mode": {
    "name": "ipython",
    "version": 3
   },
   "file_extension": ".py",
   "mimetype": "text/x-python",
   "name": "python",
   "nbconvert_exporter": "python",
   "pygments_lexer": "ipython3",
   "version": 3
  },
  "orig_nbformat": 2
 },
 "nbformat": 4,
 "nbformat_minor": 2,
 "cells": [
  {
   "source": [
    "# AMORTIZED1\n",
    "\n",
    "What is the time complexity of the following code :\n",
    "\n",
    "        int j = 0;\n",
    "        for(int i = 0; i < n; ++i) {\n",
    "            while(j < n && arr[i] < arr[j]) {\n",
    "                j++;\n",
    "            }\n",
    "        }\n",
    "\n",
    "1) O(n)<br>\n",
    "2) O(n^2)<br>\n",
    "3) O(nlogn)<br>\n",
    "4) O(n(logn)^2)<br>\n",
    "5) Can't say. Depends on the value of arr.<br>\n",
    "\n",
    "> ### Answer: 1"
   ],
   "cell_type": "markdown",
   "metadata": {}
  }
 ]
}